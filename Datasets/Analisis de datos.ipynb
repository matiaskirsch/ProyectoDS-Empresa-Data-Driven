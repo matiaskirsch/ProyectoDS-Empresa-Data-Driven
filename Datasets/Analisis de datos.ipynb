{
 "cells": [
  {
   "cell_type": "code",
   "execution_count": 243,
   "metadata": {},
   "outputs": [],
   "source": [
    "#Librerias\n",
    "import pandas as pd\n",
    "import matplotlib.pyplot as plt\n",
    "import seaborn as sns\n",
    "import numpy as np"
   ]
  },
  {
   "cell_type": "markdown",
   "metadata": {},
   "source": [
    "# **INFORME DE DATOS INICIALES**"
   ]
  },
  {
   "cell_type": "code",
   "execution_count": 244,
   "metadata": {},
   "outputs": [],
   "source": [
    "Localidad = pd.read_csv(\"..\\Datasets\\Localidades.csv\",delimiter = ',',encoding = \"utf-8\")\n",
    "Cliente = pd.read_csv(\"..\\Datasets\\Clientes.csv\",encoding = \"utf-8\",delimiter = ';', usecols=[\"ID\",\"Provincia\",\"Nombre_y_Apellido\",\"Domicilio\",\"Telefono\",\"Edad\",\"Localidad\",\"X\",\"Y\",\"col10\"])\n",
    "Proveedor = pd.read_csv(\"..\\Datasets\\Proveedores.csv\",delimiter = ',',encoding = \"ansi\")\n",
    "Gasto = pd.read_csv(\"..\\Datasets\\Gasto.csv\",delimiter = ',',encoding = \"utf-8\")\n",
    "Compra = pd.read_csv(\"..\\Datasets\\Compra.csv\",delimiter = ',',encoding = \"utf-8\")\n",
    "Sucursal = pd.read_csv(\"..\\Datasets\\Sucursales.csv\",delimiter = ';',encoding = \"utf-8\")\n",
    "Venta = pd.read_csv(\"..\\Datasets\\Venta.csv\",delimiter = ',',encoding = \"utf-8\")"
   ]
  },
  {
   "cell_type": "code",
   "execution_count": 245,
   "metadata": {},
   "outputs": [],
   "source": [
    "def DetectaNulos(df,plot=True,rotation=45,figsize=(10,5),*kwargs):\n",
    "    labels,values,percent = list(),list(),list()\n",
    "    if df.isna().sum().sum()>0:\n",
    "        for column in df.columns:\n",
    "            if df[column].isna().sum():\n",
    "                labels.append(column)\n",
    "                values.append(df[column].isna().sum())\n",
    "                percent.append((df[column].isna().sum() / df.shape[0])*100)\n",
    "        #Make a dataframe\n",
    "        missings=pd.DataFrame({'Columna':labels,'Val_nulos':values,'PorcentVacio':percent}).sort_values(by='PorcentVacio',ascending=False)\n",
    "        \n",
    "        if plot:\n",
    "            plt.figure(figsize=figsize)\n",
    "            plot = sns.barplot(x=missings.Columna,y=round(missings.PorcentVacio, 2), palette = \"YlOrBr\")\n",
    "            for i in plot.patches:\n",
    "                plot.annotate(i.get_height(),\n",
    "                (i.get_x() + i.get_width() / 2, i.get_height()),\n",
    "                ha = 'center', va = 'baseline', fontsize = 12,\n",
    "                color = 'black', xytext = (0,1),\n",
    "                textcoords = 'offset pixels')\n",
    "            locs, labels = plt.xticks()\n",
    "            plt.setp(labels, rotation=rotation,size=16)\n",
    "            plt.xlabel('Columna',size=18)\n",
    "            plt.ylabel('Porcent',size=18)\n",
    "            plot.set_title('Porcent valores nulos',size=18)\n",
    "            return missings\n",
    "    else:\n",
    "            return False"
   ]
  },
  {
   "cell_type": "code",
   "execution_count": 246,
   "metadata": {},
   "outputs": [],
   "source": [
    "def CalidadDatosColumna(data, campo):\n",
    "    Q1 = data[campo].quantile(0.25)\n",
    "    Q3 = data[campo].quantile(0.75)\n",
    "    \n",
    "    #Se calcula el rango intercuartilico IQR.\n",
    "    IQR = Q3 -Q1\n",
    "    outliersSup = (Q3 + (1.5 * IQR)) \n",
    "    mask = data[campo]<outliersSup\n",
    "    valoresinout = data[mask]\n",
    "    valoressinerrores = valoresinout.shape[0]\n",
    "    valoresnulos=data[campo].isnull().sum()\n",
    "    outliers = data.shape[0]-valoresnulos-valoressinerrores\n",
    "    \n",
    "    #porcentajes para graficar\n",
    "    porcentaje_outliers = round((outliers * 100)/data.shape[0], 2)\n",
    "    porcentaje_datos_correctos = round((valoressinerrores * 100)/data.shape[0], 2)\n",
    "    porcentaje_datos_nulos = round((valoresnulos * 100)/data.shape[0], 2)\n",
    "    \n",
    "    #Se cargan los datos para graficar\n",
    "    datos = ['Sin Errores' ,'Nulos','Outliers'] \n",
    "    porcentaje = [porcentaje_datos_correctos,porcentaje_datos_nulos,porcentaje_outliers] \n",
    "    df = pd.DataFrame({\"Datos\": datos, \n",
    "                    \"Porcentaje\": porcentaje}) \n",
    "    \n",
    "    #Se grafica.\n",
    "    plot = sns.barplot(x='Datos', y=\"Porcentaje\", data=df, palette = \"YlOrBr\")\n",
    "    for i in plot.patches:\n",
    "                plot.annotate(i.get_height(),\n",
    "                (i.get_x() + i.get_width() / 2, i.get_height()),\n",
    "                ha = 'center', va = 'baseline', fontsize = 12,\n",
    "                color = 'black', xytext = (0,1),\n",
    "                textcoords = 'offset pixels')\n",
    "    plot.set_title(f\"Calidad De Los Datos de {campo}\", fontsize = 16)\n",
    "    plt.show()\n",
    "    plt.show()\n",
    "    print('El porcentaje de datos correctos en la columna', campo, 'es de: %{:.2f}'.format(porcentaje_datos_correctos))\n",
    "    print('El porcentaje de datos nulos en la columna', campo, 'es de: %{:.2f}'.format(porcentaje_datos_nulos))\n",
    "    print('El porcentaje de outliers en la columna', campo, 'es de: %{:.2f}'.format(porcentaje_outliers))\n",
    "\n",
    "    print('Todos los valores por encima de', outliersSup, 'son un outlier')"
   ]
  },
  {
   "cell_type": "markdown",
   "metadata": {},
   "source": [
    "### **TABLA VENTA**\n",
    "Diccionario\n",
    "| | Columna Normalizada | Columna Original | Tipo de Dato | Descripción |\n",
    "|:-------------------:|---|---|---|---|\n",
    "| 0 | IdVenta | IdVenta | int64 | Clave de identificacion de venta |\n",
    "| 1 | Fecha | Fecha | datetime64 | Fecha de la venta  |\n",
    "| 2 | Fecha_Entrega | Fecha_Entrega | datetime64 | Fecha de entrega de la venta |\n",
    "| 3 | IdCanal | IdCanal | int64 | Clave única del canal de venta |\n",
    "| 4 | IdCliente | IdCliente | int64 | Clave única del cliente |\n",
    "| 5 | IdSucursal | IdSucursal | int64 | Clave única de la sucursal |\n",
    "| 6 | IdEmpleado | IdEmpleado | int64 | Clave única del empleado |\n",
    "| 7 | IdProducto | IdProducto | int64 | Clave única del producto de la venta|\n",
    "| 8 | Precio | Precio | float64 | Precio total de la venta  |\n",
    "| 9 | Cantidad | Cantidad | float64 | Cantidad de producto de la venta  |\n",
    "\n",
    "\n"
   ]
  },
  {
   "cell_type": "code",
   "execution_count": 247,
   "metadata": {},
   "outputs": [
    {
     "data": {
      "text/html": [
       "<div>\n",
       "<style scoped>\n",
       "    .dataframe tbody tr th:only-of-type {\n",
       "        vertical-align: middle;\n",
       "    }\n",
       "\n",
       "    .dataframe tbody tr th {\n",
       "        vertical-align: top;\n",
       "    }\n",
       "\n",
       "    .dataframe thead th {\n",
       "        text-align: right;\n",
       "    }\n",
       "</style>\n",
       "<table border=\"1\" class=\"dataframe\">\n",
       "  <thead>\n",
       "    <tr style=\"text-align: right;\">\n",
       "      <th></th>\n",
       "      <th>IdVenta</th>\n",
       "      <th>Fecha</th>\n",
       "      <th>Fecha_Entrega</th>\n",
       "      <th>IdCanal</th>\n",
       "      <th>IdCliente</th>\n",
       "      <th>IdSucursal</th>\n",
       "      <th>IdEmpleado</th>\n",
       "      <th>IdProducto</th>\n",
       "      <th>Precio</th>\n",
       "      <th>Cantidad</th>\n",
       "    </tr>\n",
       "  </thead>\n",
       "  <tbody>\n",
       "    <tr>\n",
       "      <th>0</th>\n",
       "      <td>1</td>\n",
       "      <td>2018-03-09</td>\n",
       "      <td>2018-03-17</td>\n",
       "      <td>3</td>\n",
       "      <td>969</td>\n",
       "      <td>13</td>\n",
       "      <td>1674</td>\n",
       "      <td>42817</td>\n",
       "      <td>813.12</td>\n",
       "      <td>2.0</td>\n",
       "    </tr>\n",
       "  </tbody>\n",
       "</table>\n",
       "</div>"
      ],
      "text/plain": [
       "   IdVenta       Fecha Fecha_Entrega  IdCanal  IdCliente  IdSucursal  \\\n",
       "0        1  2018-03-09    2018-03-17        3        969          13   \n",
       "\n",
       "   IdEmpleado  IdProducto  Precio  Cantidad  \n",
       "0        1674       42817  813.12       2.0  "
      ]
     },
     "execution_count": 247,
     "metadata": {},
     "output_type": "execute_result"
    }
   ],
   "source": [
    "Venta.head(1)"
   ]
  },
  {
   "cell_type": "code",
   "execution_count": 248,
   "metadata": {},
   "outputs": [
    {
     "name": "stdout",
     "output_type": "stream",
     "text": [
      "La tabla Venta tiene el siguiente formato: (46180, 10)\n"
     ]
    }
   ],
   "source": [
    "print('La tabla Venta tiene el siguiente formato:', Venta.shape)"
   ]
  },
  {
   "cell_type": "code",
   "execution_count": 249,
   "metadata": {},
   "outputs": [
    {
     "name": "stdout",
     "output_type": "stream",
     "text": [
      "El total de valores nulos de la tabla venta es de 1804\n"
     ]
    }
   ],
   "source": [
    "total_nulos = Venta.isnull().sum().sort_values(ascending = False)\n",
    "def nulos(nulo):\n",
    "    nul=0\n",
    "    for i in range(0,len(nulo)-1):\n",
    "     if nulo[i] >= 0:\n",
    "         nul+= nulo[i]\n",
    "    return nul\n",
    "print('El total de valores nulos de la tabla venta es de', nulos(total_nulos))"
   ]
  },
  {
   "cell_type": "code",
   "execution_count": 250,
   "metadata": {},
   "outputs": [
    {
     "data": {
      "text/html": [
       "<div>\n",
       "<style scoped>\n",
       "    .dataframe tbody tr th:only-of-type {\n",
       "        vertical-align: middle;\n",
       "    }\n",
       "\n",
       "    .dataframe tbody tr th {\n",
       "        vertical-align: top;\n",
       "    }\n",
       "\n",
       "    .dataframe thead th {\n",
       "        text-align: right;\n",
       "    }\n",
       "</style>\n",
       "<table border=\"1\" class=\"dataframe\">\n",
       "  <thead>\n",
       "    <tr style=\"text-align: right;\">\n",
       "      <th></th>\n",
       "      <th>Columna</th>\n",
       "      <th>Val_nulos</th>\n",
       "      <th>PorcentVacio</th>\n",
       "    </tr>\n",
       "  </thead>\n",
       "  <tbody>\n",
       "    <tr>\n",
       "      <th>0</th>\n",
       "      <td>Precio</td>\n",
       "      <td>920</td>\n",
       "      <td>1.992204</td>\n",
       "    </tr>\n",
       "    <tr>\n",
       "      <th>1</th>\n",
       "      <td>Cantidad</td>\n",
       "      <td>884</td>\n",
       "      <td>1.914249</td>\n",
       "    </tr>\n",
       "  </tbody>\n",
       "</table>\n",
       "</div>"
      ],
      "text/plain": [
       "    Columna  Val_nulos  PorcentVacio\n",
       "0    Precio        920      1.992204\n",
       "1  Cantidad        884      1.914249"
      ]
     },
     "execution_count": 250,
     "metadata": {},
     "output_type": "execute_result"
    },
    {
     "data": {
      "image/png": "[encoded data removed]",
      "text/plain": [
       "<Figure size 720x360 with 1 Axes>"
      ]
     },
     "metadata": {
      "needs_background": "light"
     },
     "output_type": "display_data"
    }
   ],
   "source": [
    "DetectaNulos(Venta)"
   ]
  },
  {
   "cell_type": "markdown",
   "metadata": {},
   "source": [
    "BUSQUEDA DE OUTLIERS COLUMNA PRECIO\n"
   ]
  },
  {
   "cell_type": "code",
   "execution_count": 251,
   "metadata": {},
   "outputs": [
    {
     "data": {
      "image/png": "[encoded data removed]",
      "text/plain": [
       "<Figure size 432x288 with 1 Axes>"
      ]
     },
     "metadata": {
      "needs_background": "light"
     },
     "output_type": "display_data"
    },
    {
     "name": "stdout",
     "output_type": "stream",
     "text": [
      "El porcentaje de datos correctos en la columna Precio es de: %92.65\n",
      "El porcentaje de datos nulos en la columna Precio es de: %1.99\n",
      "El porcentaje de outliers en la columna Precio es de: %5.36\n",
      "Todos los valores por encima de 3815.5 son un outlier\n"
     ]
    }
   ],
   "source": [
    "CalidadDatosColumna(Venta,'Precio')"
   ]
  },
  {
   "cell_type": "markdown",
   "metadata": {},
   "source": [
    "BUSQUEDA DE OUTLIERS COLUMNA CANTIDAD\n"
   ]
  },
  {
   "cell_type": "code",
   "execution_count": 252,
   "metadata": {},
   "outputs": [
    {
     "data": {
      "image/png": "[encoded data removed]",
      "text/plain": [
       "<Figure size 432x288 with 1 Axes>"
      ]
     },
     "metadata": {
      "needs_background": "light"
     },
     "output_type": "display_data"
    },
    {
     "name": "stdout",
     "output_type": "stream",
     "text": [
      "El porcentaje de datos correctos en la columna Cantidad es de: %96.12\n",
      "El porcentaje de datos nulos en la columna Cantidad es de: %1.91\n",
      "El porcentaje de outliers en la columna Cantidad es de: %1.97\n",
      "Todos los valores por encima de 4.5 son un outlier\n"
     ]
    }
   ],
   "source": [
    "CalidadDatosColumna(Venta, 'Cantidad')"
   ]
  },
  {
   "cell_type": "markdown",
   "metadata": {},
   "source": [
    "## TABLA CLIENTE\n",
    "Diccionario\n",
    "| | Columna Normalizada | Columna Original | Tipo de Dato | Descripción |\n",
    "|:-------------------:|---|---|---|---|\n",
    "| 0 | IdCliente | ID | int64 | Clave única del cliente |\n",
    "| 1 | Nombre_y_Apellido | Nombre_y_Apellido | object | Nombre y apellido del cliente |\n",
    "| 2 | Edad | Edad | int64 | Edad del cliente |\n",
    "| 3 | Telefono | Telefono | object | Teléfono del cliente |\n",
    "| 4 | Domicilio | Domicilio | object | Domicilio del cliente |\n",
    "| 5 | Provincia | Provincia | object | Provincia del cliente |\n",
    "| 6 | Localidad | Localidad | object | Localidad del cliente |\n",
    "| 7 | Latitud | X | float64 | Latitud del domicilio del cliente |\n",
    "| 8 | Longitud | Y | float64 | Longitud del domicilio del cliente |"
   ]
  },
  {
   "cell_type": "code",
   "execution_count": 253,
   "metadata": {},
   "outputs": [
    {
     "name": "stdout",
     "output_type": "stream",
     "text": [
      "La tabla Cliente tiene el siguiente formato (2384, 10)\n"
     ]
    }
   ],
   "source": [
    "print('La tabla Cliente tiene el siguiente formato', Cliente.shape)"
   ]
  },
  {
   "cell_type": "code",
   "execution_count": 254,
   "metadata": {},
   "outputs": [
    {
     "data": {
      "text/html": [
       "<div>\n",
       "<style scoped>\n",
       "    .dataframe tbody tr th:only-of-type {\n",
       "        vertical-align: middle;\n",
       "    }\n",
       "\n",
       "    .dataframe tbody tr th {\n",
       "        vertical-align: top;\n",
       "    }\n",
       "\n",
       "    .dataframe thead th {\n",
       "        text-align: right;\n",
       "    }\n",
       "</style>\n",
       "<table border=\"1\" class=\"dataframe\">\n",
       "  <thead>\n",
       "    <tr style=\"text-align: right;\">\n",
       "      <th></th>\n",
       "      <th>ID</th>\n",
       "      <th>Provincia</th>\n",
       "      <th>Nombre_y_Apellido</th>\n",
       "      <th>Domicilio</th>\n",
       "      <th>Telefono</th>\n",
       "      <th>Edad</th>\n",
       "      <th>Localidad</th>\n",
       "      <th>X</th>\n",
       "      <th>Y</th>\n",
       "      <th>col10</th>\n",
       "    </tr>\n",
       "  </thead>\n",
       "  <tbody>\n",
       "    <tr>\n",
       "      <th>0</th>\n",
       "      <td>1</td>\n",
       "      <td>Buenos Aires</td>\n",
       "      <td>HEBER JONI SANTANA</td>\n",
       "      <td>LAS HERAS Y BAT. 24 DE FEBRERO 4150  RINCON DE...</td>\n",
       "      <td>42-5161</td>\n",
       "      <td>58</td>\n",
       "      <td>LOMA VERDE</td>\n",
       "      <td>-58,81850307</td>\n",
       "      <td>-34,30997088</td>\n",
       "      <td>NaN</td>\n",
       "    </tr>\n",
       "  </tbody>\n",
       "</table>\n",
       "</div>"
      ],
      "text/plain": [
       "   ID     Provincia   Nombre_y_Apellido  \\\n",
       "0   1  Buenos Aires  HEBER JONI SANTANA   \n",
       "\n",
       "                                           Domicilio Telefono  Edad  \\\n",
       "0  LAS HERAS Y BAT. 24 DE FEBRERO 4150  RINCON DE...  42-5161    58   \n",
       "\n",
       "    Localidad             X             Y  col10  \n",
       "0  LOMA VERDE  -58,81850307  -34,30997088    NaN  "
      ]
     },
     "execution_count": 254,
     "metadata": {},
     "output_type": "execute_result"
    }
   ],
   "source": [
    "Cliente.head(1)"
   ]
  },
  {
   "cell_type": "code",
   "execution_count": 255,
   "metadata": {},
   "outputs": [
    {
     "name": "stdout",
     "output_type": "stream",
     "text": [
      "El total de valores nulos de la tabla Cliente es de 2633\n"
     ]
    }
   ],
   "source": [
    "total_nulos = Cliente.isnull().sum().sort_values(ascending = False)\n",
    "def nulos(nulo):\n",
    "    nul=0\n",
    "    for i in range(0,len(nulo)-1):\n",
    "     if nulo[i] >= 0:\n",
    "         nul+= nulo[i]\n",
    "    return nul\n",
    "print('El total de valores nulos de la tabla Cliente es de', nulos(total_nulos))"
   ]
  },
  {
   "cell_type": "code",
   "execution_count": 256,
   "metadata": {},
   "outputs": [
    {
     "data": {
      "text/html": [
       "<div>\n",
       "<style scoped>\n",
       "    .dataframe tbody tr th:only-of-type {\n",
       "        vertical-align: middle;\n",
       "    }\n",
       "\n",
       "    .dataframe tbody tr th {\n",
       "        vertical-align: top;\n",
       "    }\n",
       "\n",
       "    .dataframe thead th {\n",
       "        text-align: right;\n",
       "    }\n",
       "</style>\n",
       "<table border=\"1\" class=\"dataframe\">\n",
       "  <thead>\n",
       "    <tr style=\"text-align: right;\">\n",
       "      <th></th>\n",
       "      <th>Columna</th>\n",
       "      <th>Val_nulos</th>\n",
       "      <th>PorcentVacio</th>\n",
       "    </tr>\n",
       "  </thead>\n",
       "  <tbody>\n",
       "    <tr>\n",
       "      <th>7</th>\n",
       "      <td>col10</td>\n",
       "      <td>2384</td>\n",
       "      <td>100.000000</td>\n",
       "    </tr>\n",
       "    <tr>\n",
       "      <th>5</th>\n",
       "      <td>X</td>\n",
       "      <td>54</td>\n",
       "      <td>2.265101</td>\n",
       "    </tr>\n",
       "    <tr>\n",
       "      <th>6</th>\n",
       "      <td>Y</td>\n",
       "      <td>52</td>\n",
       "      <td>2.181208</td>\n",
       "    </tr>\n",
       "    <tr>\n",
       "      <th>2</th>\n",
       "      <td>Domicilio</td>\n",
       "      <td>43</td>\n",
       "      <td>1.803691</td>\n",
       "    </tr>\n",
       "    <tr>\n",
       "      <th>3</th>\n",
       "      <td>Telefono</td>\n",
       "      <td>31</td>\n",
       "      <td>1.300336</td>\n",
       "    </tr>\n",
       "    <tr>\n",
       "      <th>0</th>\n",
       "      <td>Provincia</td>\n",
       "      <td>25</td>\n",
       "      <td>1.048658</td>\n",
       "    </tr>\n",
       "    <tr>\n",
       "      <th>4</th>\n",
       "      <td>Localidad</td>\n",
       "      <td>25</td>\n",
       "      <td>1.048658</td>\n",
       "    </tr>\n",
       "    <tr>\n",
       "      <th>1</th>\n",
       "      <td>Nombre_y_Apellido</td>\n",
       "      <td>19</td>\n",
       "      <td>0.796980</td>\n",
       "    </tr>\n",
       "  </tbody>\n",
       "</table>\n",
       "</div>"
      ],
      "text/plain": [
       "             Columna  Val_nulos  PorcentVacio\n",
       "7              col10       2384    100.000000\n",
       "5                  X         54      2.265101\n",
       "6                  Y         52      2.181208\n",
       "2          Domicilio         43      1.803691\n",
       "3           Telefono         31      1.300336\n",
       "0          Provincia         25      1.048658\n",
       "4          Localidad         25      1.048658\n",
       "1  Nombre_y_Apellido         19      0.796980"
      ]
     },
     "execution_count": 256,
     "metadata": {},
     "output_type": "execute_result"
    },
    {
     "data": {
      "image/png": "[encoded data removed]",
      "text/plain": [
       "<Figure size 720x360 with 1 Axes>"
      ]
     },
     "metadata": {
      "needs_background": "light"
     },
     "output_type": "display_data"
    }
   ],
   "source": [
    "DetectaNulos(Cliente)"
   ]
  },
  {
   "cell_type": "markdown",
   "metadata": {},
   "source": [
    "DETECTO NULOS DROPEANDO COLUMNA 10 PARA TENER MAS CLARIDAD DE LOS DATOS"
   ]
  },
  {
   "cell_type": "code",
   "execution_count": 257,
   "metadata": {},
   "outputs": [
    {
     "data": {
      "text/html": [
       "<div>\n",
       "<style scoped>\n",
       "    .dataframe tbody tr th:only-of-type {\n",
       "        vertical-align: middle;\n",
       "    }\n",
       "\n",
       "    .dataframe tbody tr th {\n",
       "        vertical-align: top;\n",
       "    }\n",
       "\n",
       "    .dataframe thead th {\n",
       "        text-align: right;\n",
       "    }\n",
       "</style>\n",
       "<table border=\"1\" class=\"dataframe\">\n",
       "  <thead>\n",
       "    <tr style=\"text-align: right;\">\n",
       "      <th></th>\n",
       "      <th>Columna</th>\n",
       "      <th>Val_nulos</th>\n",
       "      <th>PorcentVacio</th>\n",
       "    </tr>\n",
       "  </thead>\n",
       "  <tbody>\n",
       "    <tr>\n",
       "      <th>5</th>\n",
       "      <td>X</td>\n",
       "      <td>54</td>\n",
       "      <td>2.265101</td>\n",
       "    </tr>\n",
       "    <tr>\n",
       "      <th>6</th>\n",
       "      <td>Y</td>\n",
       "      <td>52</td>\n",
       "      <td>2.181208</td>\n",
       "    </tr>\n",
       "    <tr>\n",
       "      <th>2</th>\n",
       "      <td>Domicilio</td>\n",
       "      <td>43</td>\n",
       "      <td>1.803691</td>\n",
       "    </tr>\n",
       "    <tr>\n",
       "      <th>3</th>\n",
       "      <td>Telefono</td>\n",
       "      <td>31</td>\n",
       "      <td>1.300336</td>\n",
       "    </tr>\n",
       "    <tr>\n",
       "      <th>0</th>\n",
       "      <td>Provincia</td>\n",
       "      <td>25</td>\n",
       "      <td>1.048658</td>\n",
       "    </tr>\n",
       "    <tr>\n",
       "      <th>4</th>\n",
       "      <td>Localidad</td>\n",
       "      <td>25</td>\n",
       "      <td>1.048658</td>\n",
       "    </tr>\n",
       "    <tr>\n",
       "      <th>1</th>\n",
       "      <td>Nombre_y_Apellido</td>\n",
       "      <td>19</td>\n",
       "      <td>0.796980</td>\n",
       "    </tr>\n",
       "  </tbody>\n",
       "</table>\n",
       "</div>"
      ],
      "text/plain": [
       "             Columna  Val_nulos  PorcentVacio\n",
       "5                  X         54      2.265101\n",
       "6                  Y         52      2.181208\n",
       "2          Domicilio         43      1.803691\n",
       "3           Telefono         31      1.300336\n",
       "0          Provincia         25      1.048658\n",
       "4          Localidad         25      1.048658\n",
       "1  Nombre_y_Apellido         19      0.796980"
      ]
     },
     "execution_count": 257,
     "metadata": {},
     "output_type": "execute_result"
    },
    {
     "data": {
      "image/png": "[encoded data removed]",
      "text/plain": [
       "<Figure size 720x360 with 1 Axes>"
      ]
     },
     "metadata": {
      "needs_background": "light"
     },
     "output_type": "display_data"
    }
   ],
   "source": [
    "DetectaNulos(Cliente.drop(columns='col10'))"
   ]
  },
  {
   "cell_type": "markdown",
   "metadata": {},
   "source": [
    "## TABLA SUCURSAL\n",
    "DIRECCION\n",
    "| | Columna Normalizada | Columna Original | Tipo de Dato | Descripción |\n",
    "|:-------------------:|---|---|---|---|\n",
    "| 0 | IdSucursal | ï»¿ID | int64 | Clave única dela sucursal |\n",
    "| 1 | Sucursal | Sucursal | object | Nombre de la sucursal |\n",
    "| 2 | Domicilio | Direccion | object | Domicilio de la sucursal |\n",
    "| 3 | Localidad | Localidad | object | Localidad de la sucursal |\n",
    "| 4 | Provincia | Provincia | object | Provincia de la sucursal |\n",
    "| 5 | Latitud | Latitud | float64 | Latitud de la sucursal |\n",
    "| 6 | Longitud | Longitud | float64 | Longitud de la sucursal |"
   ]
  },
  {
   "cell_type": "code",
   "execution_count": 258,
   "metadata": {},
   "outputs": [
    {
     "name": "stdout",
     "output_type": "stream",
     "text": [
      "La tabla sucursal tiene el siguiente formato (31, 7)\n"
     ]
    }
   ],
   "source": [
    "print('La tabla sucursal tiene el siguiente formato', Sucursal.shape)"
   ]
  },
  {
   "cell_type": "code",
   "execution_count": 259,
   "metadata": {},
   "outputs": [
    {
     "data": {
      "text/html": [
       "<div>\n",
       "<style scoped>\n",
       "    .dataframe tbody tr th:only-of-type {\n",
       "        vertical-align: middle;\n",
       "    }\n",
       "\n",
       "    .dataframe tbody tr th {\n",
       "        vertical-align: top;\n",
       "    }\n",
       "\n",
       "    .dataframe thead th {\n",
       "        text-align: right;\n",
       "    }\n",
       "</style>\n",
       "<table border=\"1\" class=\"dataframe\">\n",
       "  <thead>\n",
       "    <tr style=\"text-align: right;\">\n",
       "      <th></th>\n",
       "      <th>ID</th>\n",
       "      <th>Sucursal</th>\n",
       "      <th>Direccion</th>\n",
       "      <th>Localidad</th>\n",
       "      <th>Provincia</th>\n",
       "      <th>Latitud</th>\n",
       "      <th>Longitud</th>\n",
       "    </tr>\n",
       "  </thead>\n",
       "  <tbody>\n",
       "    <tr>\n",
       "      <th>0</th>\n",
       "      <td>1</td>\n",
       "      <td>Cabildo</td>\n",
       "      <td>Av. Cabildo 1342</td>\n",
       "      <td>Ciudad de Buenos Aires</td>\n",
       "      <td>Ciudad de Buenos Aires</td>\n",
       "      <td>-34,5678060</td>\n",
       "      <td>-58,4495720</td>\n",
       "    </tr>\n",
       "  </tbody>\n",
       "</table>\n",
       "</div>"
      ],
      "text/plain": [
       "   ID Sucursal         Direccion               Localidad  \\\n",
       "0   1  Cabildo  Av. Cabildo 1342  Ciudad de Buenos Aires   \n",
       "\n",
       "                Provincia      Latitud     Longitud  \n",
       "0  Ciudad de Buenos Aires  -34,5678060  -58,4495720  "
      ]
     },
     "execution_count": 259,
     "metadata": {},
     "output_type": "execute_result"
    }
   ],
   "source": [
    "Sucursal.head(1)"
   ]
  },
  {
   "cell_type": "code",
   "execution_count": 260,
   "metadata": {},
   "outputs": [
    {
     "name": "stdout",
     "output_type": "stream",
     "text": [
      "El total de valores nulos de la tabla sucursal es de 0\n"
     ]
    }
   ],
   "source": [
    "total_nulos = Sucursal.isnull().sum().sort_values(ascending = False)\n",
    "def nulos(nulo):\n",
    "    nul=0\n",
    "    for i in range(0,len(nulo)-1):\n",
    "     if nulo[i] >= 0:\n",
    "         nul+= nulo[i]\n",
    "    return nul\n",
    "print('El total de valores nulos de la tabla sucursal es de', nulos(total_nulos))"
   ]
  },
  {
   "cell_type": "code",
   "execution_count": 261,
   "metadata": {},
   "outputs": [
    {
     "data": {
      "text/plain": [
       "False"
      ]
     },
     "execution_count": 261,
     "metadata": {},
     "output_type": "execute_result"
    }
   ],
   "source": [
    "DetectaNulos(Sucursal)"
   ]
  },
  {
   "cell_type": "markdown",
   "metadata": {},
   "source": [
    "La tabla sucursal no tiene valores nulos, por lo que no se va a graficar"
   ]
  },
  {
   "cell_type": "markdown",
   "metadata": {},
   "source": [
    "## TABLA PROVEEDOR\n",
    "\n",
    "| | Columna Normalizada | Columna Original | Tipo de Dato | Descripción |\n",
    "|:-------------------:|---|---|---|---|\n",
    "| 0 | IdProveedor | IDProveedor | int64 | Clave única del proveedor |\n",
    "| 1 | Proveedor | Nombre | object | Nombre del proveedor |\n",
    "| 2 | Domicilio | Address | object | Domicilio del proveedor |\n",
    "| 3 | Ciudad | City | object | Ciudad del proveedor |\n",
    "| 4 | Provincia | State | object | Provincia del proveedor |\n",
    "| 5 | Pais | Country | object | Pais del proveedor |\n",
    "| 6 | Departamento | departamen | object | Departamento del proveedor |"
   ]
  },
  {
   "cell_type": "code",
   "execution_count": 262,
   "metadata": {},
   "outputs": [
    {
     "name": "stdout",
     "output_type": "stream",
     "text": [
      "La tabla proveedor tiene el siguiente formato (14, 7)\n"
     ]
    }
   ],
   "source": [
    "print('La tabla proveedor tiene el siguiente formato', Proveedor.shape)"
   ]
  },
  {
   "cell_type": "code",
   "execution_count": 263,
   "metadata": {},
   "outputs": [
    {
     "data": {
      "text/html": [
       "<div>\n",
       "<style scoped>\n",
       "    .dataframe tbody tr th:only-of-type {\n",
       "        vertical-align: middle;\n",
       "    }\n",
       "\n",
       "    .dataframe tbody tr th {\n",
       "        vertical-align: top;\n",
       "    }\n",
       "\n",
       "    .dataframe thead th {\n",
       "        text-align: right;\n",
       "    }\n",
       "</style>\n",
       "<table border=\"1\" class=\"dataframe\">\n",
       "  <thead>\n",
       "    <tr style=\"text-align: right;\">\n",
       "      <th></th>\n",
       "      <th>IDProveedor</th>\n",
       "      <th>Nombre</th>\n",
       "      <th>Address</th>\n",
       "      <th>City</th>\n",
       "      <th>State</th>\n",
       "      <th>Country</th>\n",
       "      <th>departamen</th>\n",
       "    </tr>\n",
       "  </thead>\n",
       "  <tbody>\n",
       "    <tr>\n",
       "      <th>0</th>\n",
       "      <td>1</td>\n",
       "      <td>NaN</td>\n",
       "      <td>BEREGUESTEIN 36</td>\n",
       "      <td>AVELLANEDA</td>\n",
       "      <td>BUENOS AIRES</td>\n",
       "      <td>ARGENTINA</td>\n",
       "      <td>AVELLANEDA</td>\n",
       "    </tr>\n",
       "  </tbody>\n",
       "</table>\n",
       "</div>"
      ],
      "text/plain": [
       "   IDProveedor Nombre          Address        City         State    Country  \\\n",
       "0            1    NaN  BEREGUESTEIN 36  AVELLANEDA  BUENOS AIRES  ARGENTINA   \n",
       "\n",
       "   departamen  \n",
       "0  AVELLANEDA  "
      ]
     },
     "execution_count": 263,
     "metadata": {},
     "output_type": "execute_result"
    }
   ],
   "source": [
    "Proveedor.head(1)"
   ]
  },
  {
   "cell_type": "code",
   "execution_count": 264,
   "metadata": {},
   "outputs": [
    {
     "name": "stdout",
     "output_type": "stream",
     "text": [
      "El total de valores nulos de la tabla proveedor es de 2\n"
     ]
    }
   ],
   "source": [
    "total_nulos = Proveedor.isnull().sum().sort_values(ascending = False)\n",
    "def nulos(nulo):\n",
    "    nul=0\n",
    "    for i in range(0,len(nulo)-1):\n",
    "     if nulo[i] >= 0:\n",
    "         nul+= nulo[i]\n",
    "    return nul\n",
    "print('El total de valores nulos de la tabla proveedor es de', nulos(total_nulos))"
   ]
  },
  {
   "cell_type": "code",
   "execution_count": 265,
   "metadata": {},
   "outputs": [
    {
     "data": {
      "text/html": [
       "<div>\n",
       "<style scoped>\n",
       "    .dataframe tbody tr th:only-of-type {\n",
       "        vertical-align: middle;\n",
       "    }\n",
       "\n",
       "    .dataframe tbody tr th {\n",
       "        vertical-align: top;\n",
       "    }\n",
       "\n",
       "    .dataframe thead th {\n",
       "        text-align: right;\n",
       "    }\n",
       "</style>\n",
       "<table border=\"1\" class=\"dataframe\">\n",
       "  <thead>\n",
       "    <tr style=\"text-align: right;\">\n",
       "      <th></th>\n",
       "      <th>Columna</th>\n",
       "      <th>Val_nulos</th>\n",
       "      <th>PorcentVacio</th>\n",
       "    </tr>\n",
       "  </thead>\n",
       "  <tbody>\n",
       "    <tr>\n",
       "      <th>0</th>\n",
       "      <td>Nombre</td>\n",
       "      <td>2</td>\n",
       "      <td>14.285714</td>\n",
       "    </tr>\n",
       "  </tbody>\n",
       "</table>\n",
       "</div>"
      ],
      "text/plain": [
       "  Columna  Val_nulos  PorcentVacio\n",
       "0  Nombre          2     14.285714"
      ]
     },
     "execution_count": 265,
     "metadata": {},
     "output_type": "execute_result"
    },
    {
     "data": {
      "image/png": "[encoded data removed]",
      "text/plain": [
       "<Figure size 720x360 with 1 Axes>"
      ]
     },
     "metadata": {
      "needs_background": "light"
     },
     "output_type": "display_data"
    }
   ],
   "source": [
    "DetectaNulos(Proveedor)"
   ]
  },
  {
   "cell_type": "markdown",
   "metadata": {},
   "source": [
    "## TABLA LOCALIDAD\n",
    "DICCIONARIO\n",
    "| | Columna Normalizada | Columna Original | Tipo de Dato | Descripción |\n",
    "|:-------------------:|---|---|---|---|\n",
    "| 0 | IdLocalidad | id | int64 | Clave única de la localidad |\n",
    "| 1 | Localidad | nombre | object | Nombre de la localidad |\n",
    "| 2 | IdMunicipio | municipio_id | int64 | Clave única del municipio |\n",
    "| 3 | Municipio | municipio_nombre | object | Nombre del municipio |\n",
    "| 4 | IdDepartamento | departamento_id | int64 | Clave única del departamento |\n",
    "| 5 | Departamento | departamento_nombre | object | Nombre del departamento |\n",
    "| 6 | IdProvincia | provincia_id | int64 | Clave única de la provincia |\n",
    "| 7 | Provincia | provincia_nombre | object | Nombre de la provincia |\n",
    "| 8 | Fuente | fuente | object | Fuente de información de datos censales |\n",
    "| 9 | IdLocalidadCensal | localidad_censal_id | int64 | Clave única de la localidad censal  |\n",
    "| 10 | LocalidadCensal | localidad_censal_nombre | object | Nombre de la localidad censal |\n",
    "| 11 | Categoria | categoria | object | Categoria de la localidad censal |\n",
    "| 12 | Latitud | centroide_lat | float64 | Latitud de la localidad |\n",
    "| 13 | Longitud | centroide_lon | float64 | Longitud de la localidad |"
   ]
  },
  {
   "cell_type": "code",
   "execution_count": 266,
   "metadata": {},
   "outputs": [
    {
     "name": "stdout",
     "output_type": "stream",
     "text": [
      "La tabla localidad tiene el siguiente formato (4142, 14)\n"
     ]
    }
   ],
   "source": [
    "print('La tabla localidad tiene el siguiente formato', Localidad.shape)"
   ]
  },
  {
   "cell_type": "code",
   "execution_count": 267,
   "metadata": {},
   "outputs": [
    {
     "data": {
      "text/html": [
       "<div>\n",
       "<style scoped>\n",
       "    .dataframe tbody tr th:only-of-type {\n",
       "        vertical-align: middle;\n",
       "    }\n",
       "\n",
       "    .dataframe tbody tr th {\n",
       "        vertical-align: top;\n",
       "    }\n",
       "\n",
       "    .dataframe thead th {\n",
       "        text-align: right;\n",
       "    }\n",
       "</style>\n",
       "<table border=\"1\" class=\"dataframe\">\n",
       "  <thead>\n",
       "    <tr style=\"text-align: right;\">\n",
       "      <th></th>\n",
       "      <th>categoria</th>\n",
       "      <th>centroide_lat</th>\n",
       "      <th>centroide_lon</th>\n",
       "      <th>departamento_id</th>\n",
       "      <th>departamento_nombre</th>\n",
       "      <th>fuente</th>\n",
       "      <th>id</th>\n",
       "      <th>localidad_censal_id</th>\n",
       "      <th>localidad_censal_nombre</th>\n",
       "      <th>municipio_id</th>\n",
       "      <th>municipio_nombre</th>\n",
       "      <th>nombre</th>\n",
       "      <th>provincia_id</th>\n",
       "      <th>provincia_nombre</th>\n",
       "    </tr>\n",
       "  </thead>\n",
       "  <tbody>\n",
       "    <tr>\n",
       "      <th>0</th>\n",
       "      <td>Localidad simple</td>\n",
       "      <td>-35.033073</td>\n",
       "      <td>-60.28062</td>\n",
       "      <td>6021.0</td>\n",
       "      <td>Alberti</td>\n",
       "      <td>INDEC</td>\n",
       "      <td>6021010000</td>\n",
       "      <td>6021010</td>\n",
       "      <td>Alberti</td>\n",
       "      <td>60021.0</td>\n",
       "      <td>Alberti</td>\n",
       "      <td>ALBERTI</td>\n",
       "      <td>6</td>\n",
       "      <td>Buenos Aires</td>\n",
       "    </tr>\n",
       "  </tbody>\n",
       "</table>\n",
       "</div>"
      ],
      "text/plain": [
       "          categoria  centroide_lat  centroide_lon  departamento_id  \\\n",
       "0  Localidad simple     -35.033073      -60.28062           6021.0   \n",
       "\n",
       "  departamento_nombre fuente          id  localidad_censal_id  \\\n",
       "0             Alberti  INDEC  6021010000              6021010   \n",
       "\n",
       "  localidad_censal_nombre  municipio_id municipio_nombre   nombre  \\\n",
       "0                 Alberti       60021.0          Alberti  ALBERTI   \n",
       "\n",
       "   provincia_id provincia_nombre  \n",
       "0             6     Buenos Aires  "
      ]
     },
     "execution_count": 267,
     "metadata": {},
     "output_type": "execute_result"
    }
   ],
   "source": [
    "Localidad.head(1)"
   ]
  },
  {
   "cell_type": "code",
   "execution_count": 268,
   "metadata": {},
   "outputs": [
    {
     "name": "stdout",
     "output_type": "stream",
     "text": [
      "El total de valores nulos de la tabla localidad es de 1039\n"
     ]
    }
   ],
   "source": [
    "total_nulos = Localidad.isnull().sum().sort_values(ascending = False)\n",
    "def nulos(nulo):\n",
    "    nul=0\n",
    "    for i in range(0,len(nulo)-1):\n",
    "     if nulo[i] >= 0:\n",
    "         nul+= nulo[i]\n",
    "    return nul\n",
    "print('El total de valores nulos de la tabla localidad es de', nulos(total_nulos))"
   ]
  },
  {
   "cell_type": "code",
   "execution_count": 269,
   "metadata": {},
   "outputs": [
    {
     "data": {
      "text/html": [
       "<div>\n",
       "<style scoped>\n",
       "    .dataframe tbody tr th:only-of-type {\n",
       "        vertical-align: middle;\n",
       "    }\n",
       "\n",
       "    .dataframe tbody tr th {\n",
       "        vertical-align: top;\n",
       "    }\n",
       "\n",
       "    .dataframe thead th {\n",
       "        text-align: right;\n",
       "    }\n",
       "</style>\n",
       "<table border=\"1\" class=\"dataframe\">\n",
       "  <thead>\n",
       "    <tr style=\"text-align: right;\">\n",
       "      <th></th>\n",
       "      <th>Columna</th>\n",
       "      <th>Val_nulos</th>\n",
       "      <th>PorcentVacio</th>\n",
       "    </tr>\n",
       "  </thead>\n",
       "  <tbody>\n",
       "    <tr>\n",
       "      <th>2</th>\n",
       "      <td>municipio_id</td>\n",
       "      <td>543</td>\n",
       "      <td>13.109609</td>\n",
       "    </tr>\n",
       "    <tr>\n",
       "      <th>3</th>\n",
       "      <td>municipio_nombre</td>\n",
       "      <td>494</td>\n",
       "      <td>11.926606</td>\n",
       "    </tr>\n",
       "    <tr>\n",
       "      <th>0</th>\n",
       "      <td>departamento_id</td>\n",
       "      <td>1</td>\n",
       "      <td>0.024143</td>\n",
       "    </tr>\n",
       "    <tr>\n",
       "      <th>1</th>\n",
       "      <td>departamento_nombre</td>\n",
       "      <td>1</td>\n",
       "      <td>0.024143</td>\n",
       "    </tr>\n",
       "  </tbody>\n",
       "</table>\n",
       "</div>"
      ],
      "text/plain": [
       "               Columna  Val_nulos  PorcentVacio\n",
       "2         municipio_id        543     13.109609\n",
       "3     municipio_nombre        494     11.926606\n",
       "0      departamento_id          1      0.024143\n",
       "1  departamento_nombre          1      0.024143"
      ]
     },
     "execution_count": 269,
     "metadata": {},
     "output_type": "execute_result"
    },
    {
     "data": {
      "image/png": "[encoded data removed]",
      "text/plain": [
       "<Figure size 720x360 with 1 Axes>"
      ]
     },
     "metadata": {
      "needs_background": "light"
     },
     "output_type": "display_data"
    }
   ],
   "source": [
    "DetectaNulos(Localidad)"
   ]
  },
  {
   "cell_type": "markdown",
   "metadata": {},
   "source": [
    "## TABLA GASTO\n",
    "DICCIONARIO\n",
    "| | Columna Normalizada | Columna Original | Tipo de Dato | Descripción |\n",
    "|:-------------------:|---|---|---|---|\n",
    "| 0 | IdGasto | IdGasto | int64 | Clave única del gasto |\n",
    "| 1 | IdSucursal | IdSucursal | int64 | Clave única de la sucursal |\n",
    "| 2 | IdTipoGasto | IdTipoGasto | int64 | Clave única del tipo de gasto |\n",
    "| 3 | Fecha | Fecha | datetime64 | Fecha registrada del gasto |\n",
    "| 4 | Monto | Monto | float64 | Monto total del gasto |"
   ]
  },
  {
   "cell_type": "code",
   "execution_count": 270,
   "metadata": {},
   "outputs": [
    {
     "name": "stdout",
     "output_type": "stream",
     "text": [
      "La tabla gasto tiene el siguiente formato (8640, 5)\n"
     ]
    }
   ],
   "source": [
    "print('La tabla gasto tiene el siguiente formato', Gasto.shape)"
   ]
  },
  {
   "cell_type": "code",
   "execution_count": 271,
   "metadata": {},
   "outputs": [
    {
     "data": {
      "text/html": [
       "<div>\n",
       "<style scoped>\n",
       "    .dataframe tbody tr th:only-of-type {\n",
       "        vertical-align: middle;\n",
       "    }\n",
       "\n",
       "    .dataframe tbody tr th {\n",
       "        vertical-align: top;\n",
       "    }\n",
       "\n",
       "    .dataframe thead th {\n",
       "        text-align: right;\n",
       "    }\n",
       "</style>\n",
       "<table border=\"1\" class=\"dataframe\">\n",
       "  <thead>\n",
       "    <tr style=\"text-align: right;\">\n",
       "      <th></th>\n",
       "      <th>IdGasto</th>\n",
       "      <th>IdSucursal</th>\n",
       "      <th>IdTipoGasto</th>\n",
       "      <th>Fecha</th>\n",
       "      <th>Monto</th>\n",
       "    </tr>\n",
       "  </thead>\n",
       "  <tbody>\n",
       "    <tr>\n",
       "      <th>0</th>\n",
       "      <td>1</td>\n",
       "      <td>18</td>\n",
       "      <td>1</td>\n",
       "      <td>2015-01-01</td>\n",
       "      <td>1164.9</td>\n",
       "    </tr>\n",
       "  </tbody>\n",
       "</table>\n",
       "</div>"
      ],
      "text/plain": [
       "   IdGasto  IdSucursal  IdTipoGasto       Fecha   Monto\n",
       "0        1          18            1  2015-01-01  1164.9"
      ]
     },
     "execution_count": 271,
     "metadata": {},
     "output_type": "execute_result"
    }
   ],
   "source": [
    "Gasto.head(1)"
   ]
  },
  {
   "cell_type": "code",
   "execution_count": 272,
   "metadata": {},
   "outputs": [
    {
     "name": "stdout",
     "output_type": "stream",
     "text": [
      "El total de valores nulo de la tabla Gasto es de 0\n"
     ]
    }
   ],
   "source": [
    "total_nulos = Gasto.isnull().sum().sort_values(ascending = False)\n",
    "def nulos(nulo):\n",
    "    nul=0\n",
    "    for i in range(0,len(nulo)-1):\n",
    "     if nulo[i] >= 0:\n",
    "         nul+= nulo[i]\n",
    "    return nul\n",
    "print('El total de valores nulo de la tabla Gasto es de', nulos(total_nulos))"
   ]
  },
  {
   "cell_type": "markdown",
   "metadata": {},
   "source": [
    "BUSQUEDA DE OUTLIERS EN COLUMNA MONTO"
   ]
  },
  {
   "cell_type": "code",
   "execution_count": 273,
   "metadata": {},
   "outputs": [
    {
     "data": {
      "image/png": "[encoded data removed]",
      "text/plain": [
       "<Figure size 432x288 with 1 Axes>"
      ]
     },
     "metadata": {
      "needs_background": "light"
     },
     "output_type": "display_data"
    },
    {
     "name": "stdout",
     "output_type": "stream",
     "text": [
      "El porcentaje de datos correctos en la columna Monto es de: %100.00\n",
      "El porcentaje de datos nulos en la columna Monto es de: %0.00\n",
      "El porcentaje de outliers en la columna Monto es de: %0.00\n",
      "Todos los valores por encima de 2368.7725 son un outlier\n"
     ]
    }
   ],
   "source": [
    "CalidadDatosColumna(Gasto, 'Monto')"
   ]
  },
  {
   "cell_type": "markdown",
   "metadata": {},
   "source": [
    "## TABLA COMPRA\n",
    "DICCIONARIO\n",
    "| | Columna Normalizada | Columna Original | Tipo de Dato | Descripción |\n",
    "|:-------------------:|---|---|---|---|\n",
    "| 0 | IdCompra | IdCompra | int64 | Clave única de la compra |\n",
    "| 1 | Fecha | Fecha | datetime64 | Fecha registrada de compra |\n",
    "| 2 | Fecha_Año | Fecha_Año | int64 | Año registrado de compra |\n",
    "| 3 | Fecha_Mes | Fecha_Mes | int64 | Mes registrado de compra |\n",
    "| 4 | Fecha_Periodo | Fecha_Periodo | int64 | Periodo registrado de compra  |\n",
    "| 5 | IdProducto | IdProducto | int64 | Clave única del producto adquirido |\n",
    "| 6 | Cantidad | Cantidad | int64 | Cantidad de producto adquirido en la compra |\n",
    "| 7 | Precio | Precio | float64 | Precio pagado por la compra |\n",
    "| 8 | IdProveedor | IdProveedor | int64 | Clave única del proveedor |"
   ]
  },
  {
   "cell_type": "code",
   "execution_count": 274,
   "metadata": {},
   "outputs": [
    {
     "name": "stdout",
     "output_type": "stream",
     "text": [
      "La tabla compra tiene el siguiente formato (11539, 9)\n"
     ]
    }
   ],
   "source": [
    "print('La tabla compra tiene el siguiente formato', Compra.shape)"
   ]
  },
  {
   "cell_type": "code",
   "execution_count": 275,
   "metadata": {},
   "outputs": [
    {
     "data": {
      "text/html": [
       "<div>\n",
       "<style scoped>\n",
       "    .dataframe tbody tr th:only-of-type {\n",
       "        vertical-align: middle;\n",
       "    }\n",
       "\n",
       "    .dataframe tbody tr th {\n",
       "        vertical-align: top;\n",
       "    }\n",
       "\n",
       "    .dataframe thead th {\n",
       "        text-align: right;\n",
       "    }\n",
       "</style>\n",
       "<table border=\"1\" class=\"dataframe\">\n",
       "  <thead>\n",
       "    <tr style=\"text-align: right;\">\n",
       "      <th></th>\n",
       "      <th>IdCompra</th>\n",
       "      <th>Fecha</th>\n",
       "      <th>Fecha_Año</th>\n",
       "      <th>Fecha_Mes</th>\n",
       "      <th>Fecha_Periodo</th>\n",
       "      <th>IdProducto</th>\n",
       "      <th>Cantidad</th>\n",
       "      <th>Precio</th>\n",
       "      <th>IdProveedor</th>\n",
       "    </tr>\n",
       "  </thead>\n",
       "  <tbody>\n",
       "    <tr>\n",
       "      <th>0</th>\n",
       "      <td>1</td>\n",
       "      <td>1/30/2015</td>\n",
       "      <td>2015</td>\n",
       "      <td>1</td>\n",
       "      <td>201501</td>\n",
       "      <td>42832</td>\n",
       "      <td>13</td>\n",
       "      <td>560.51</td>\n",
       "      <td>12</td>\n",
       "    </tr>\n",
       "  </tbody>\n",
       "</table>\n",
       "</div>"
      ],
      "text/plain": [
       "   IdCompra      Fecha  Fecha_Año  Fecha_Mes  Fecha_Periodo  IdProducto  \\\n",
       "0         1  1/30/2015       2015          1         201501       42832   \n",
       "\n",
       "   Cantidad  Precio  IdProveedor  \n",
       "0        13  560.51           12  "
      ]
     },
     "execution_count": 275,
     "metadata": {},
     "output_type": "execute_result"
    }
   ],
   "source": [
    "Compra.head(1)"
   ]
  },
  {
   "cell_type": "code",
   "execution_count": 276,
   "metadata": {},
   "outputs": [
    {
     "name": "stdout",
     "output_type": "stream",
     "text": [
      "El total de valores nulos de la tabla Compra es de 367\n"
     ]
    }
   ],
   "source": [
    "total_nulos = Compra.isnull().sum().sort_values(ascending = False)\n",
    "def nulos(nulo):\n",
    "    nul=0\n",
    "    for i in range(0,len(nulo)-1):\n",
    "     if nulo[i] >= 0:\n",
    "         nul+= nulo[i]\n",
    "    return nul\n",
    "print('El total de valores nulos de la tabla Compra es de', nulos(total_nulos))"
   ]
  },
  {
   "cell_type": "code",
   "execution_count": 277,
   "metadata": {},
   "outputs": [
    {
     "data": {
      "text/html": [
       "<div>\n",
       "<style scoped>\n",
       "    .dataframe tbody tr th:only-of-type {\n",
       "        vertical-align: middle;\n",
       "    }\n",
       "\n",
       "    .dataframe tbody tr th {\n",
       "        vertical-align: top;\n",
       "    }\n",
       "\n",
       "    .dataframe thead th {\n",
       "        text-align: right;\n",
       "    }\n",
       "</style>\n",
       "<table border=\"1\" class=\"dataframe\">\n",
       "  <thead>\n",
       "    <tr style=\"text-align: right;\">\n",
       "      <th></th>\n",
       "      <th>Columna</th>\n",
       "      <th>Val_nulos</th>\n",
       "      <th>PorcentVacio</th>\n",
       "    </tr>\n",
       "  </thead>\n",
       "  <tbody>\n",
       "    <tr>\n",
       "      <th>0</th>\n",
       "      <td>Precio</td>\n",
       "      <td>367</td>\n",
       "      <td>3.180518</td>\n",
       "    </tr>\n",
       "  </tbody>\n",
       "</table>\n",
       "</div>"
      ],
      "text/plain": [
       "  Columna  Val_nulos  PorcentVacio\n",
       "0  Precio        367      3.180518"
      ]
     },
     "execution_count": 277,
     "metadata": {},
     "output_type": "execute_result"
    },
    {
     "data": {
      "image/png": "[encoded data removed]",
      "text/plain": [
       "<Figure size 720x360 with 1 Axes>"
      ]
     },
     "metadata": {
      "needs_background": "light"
     },
     "output_type": "display_data"
    }
   ],
   "source": [
    "DetectaNulos(Compra)"
   ]
  },
  {
   "cell_type": "markdown",
   "metadata": {},
   "source": [
    "BUSQUEDA DE OUTLIERS COLUMNA PRECIO"
   ]
  },
  {
   "cell_type": "code",
   "execution_count": 278,
   "metadata": {},
   "outputs": [
    {
     "data": {
      "image/png": "[encoded data removed]",
      "text/plain": [
       "<Figure size 432x288 with 1 Axes>"
      ]
     },
     "metadata": {
      "needs_background": "light"
     },
     "output_type": "display_data"
    },
    {
     "name": "stdout",
     "output_type": "stream",
     "text": [
      "El porcentaje de datos correctos en la columna Precio es de: %91.63\n",
      "El porcentaje de datos nulos en la columna Precio es de: %3.18\n",
      "El porcentaje de outliers en la columna Precio es de: %5.19\n",
      "Todos los valores por encima de 2690.5612499999997 son un outlier\n"
     ]
    }
   ],
   "source": [
    "CalidadDatosColumna(Compra,'Precio')"
   ]
  },
  {
   "cell_type": "markdown",
   "metadata": {},
   "source": [
    "BUSQUEDA DE OUTLIERS COLUMNA CANTIDAD"
   ]
  },
  {
   "cell_type": "code",
   "execution_count": 279,
   "metadata": {},
   "outputs": [
    {
     "data": {
      "image/png": "[encoded data removed]",
      "text/plain": [
       "<Figure size 432x288 with 1 Axes>"
      ]
     },
     "metadata": {
      "needs_background": "light"
     },
     "output_type": "display_data"
    },
    {
     "name": "stdout",
     "output_type": "stream",
     "text": [
      "El porcentaje de datos correctos en la columna Cantidad es de: %96.48\n",
      "El porcentaje de datos nulos en la columna Cantidad es de: %0.00\n",
      "El porcentaje de outliers en la columna Cantidad es de: %3.52\n",
      "Todos los valores por encima de 24.0 son un outlier\n"
     ]
    }
   ],
   "source": [
    "CalidadDatosColumna(Compra,'Cantidad')"
   ]
  },
  {
   "cell_type": "markdown",
   "metadata": {},
   "source": [
    "## CONCLUSION DATOS"
   ]
  },
  {
   "cell_type": "markdown",
   "metadata": {},
   "source": [
    "En el analisis inicial se ve que la integridad de los datos de las tablas Gasto y Sucursal son del 100% ya que no tienen nulos, seguidas por Proveedor con 2 nulos.  \n",
    "En las tablas de Venta y Compra se encontraron outliers en las columnas Precio y Cantidad, valores a corregir para no tener resultados erroneos al momento de calcular ventas o compras por periodos.\n"
   ]
  },
  {
   "cell_type": "markdown",
   "metadata": {},
   "source": [
    "# **ANALISIS DE NUEVA SUCURSAL Y KPI**"
   ]
  },
  {
   "cell_type": "markdown",
   "metadata": {},
   "source": [
    "Como se ve en el siguiente dashboard de PowerBi un KPI que podria aplicar la empresa es el de Venta Total por Sucursales, donde la sucursal de Flores se muestra como la que mas ha vendido historicamente con un total de 7.246.983 en un total de 6502 unidades vendidas.  \n",
    "Podria agregarse a este KPI los periodos de venta por Año o Trimestre para saber como esta siendo el rendimiento en ventas de las distintas sucursales en estos periodos de tiempo.  \n",
    "\n",
    "\n",
    "La Cantidad Vendida por Sucursal es un buen KPI para saber cual de las sucursales es la que mas cantidades de producto vende. \n",
    "\n",
    "\n",
    "Clientes por Provincia seria un buen KPI para saber en que localidad hay muchos clientes de la empresa y asi analizar la posibilidad de aperturas de nuevas sucursales  \n",
    "Al analizar esto nos da como resultado que Cordoba es la segunda provincia con mas cantidad de ventas detras de Buenos Aires y solo tiene 3 sucursales, asique seria un buen punto para la apertura de otra sucursal."
   ]
  },
  {
   "cell_type": "markdown",
   "metadata": {},
   "source": [
    "![](PowerBi1.png)"
   ]
  },
  {
   "cell_type": "markdown",
   "metadata": {},
   "source": [
    "![](PowerBi2.png)"
   ]
  }
 ],
 "metadata": {
  "kernelspec": {
   "display_name": "Python 3.10.2 64-bit",
   "language": "python",
   "name": "python3"
  },
  "language_info": {
   "codemirror_mode": {
    "name": "ipython",
    "version": 3
   },
   "file_extension": ".py",
   "mimetype": "text/x-python",
   "name": "python",
   "nbconvert_exporter": "python",
   "pygments_lexer": "ipython3",
   "version": "3.10.2"
  },
  "orig_nbformat": 4,
  "vscode": {
   "interpreter": {
    "hash": "fc9bf071d1edcda62f9f40c4f5d365670026981195518e39fb1bfe9748cea84c"
   }
  }
 },
 "nbformat": 4,
 "nbformat_minor": 2
}
